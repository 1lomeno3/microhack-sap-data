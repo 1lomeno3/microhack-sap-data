{
  "cells": [
    {
      "cell_type": "markdown",
      "source": [
        "# MicroHack SAP & Data AI - Setup Payment Generation\r\n",
        "This notebook can be used to generate payments based upon extracted Sales Order Headers using CDS View `ZBD_ISALESDOC_E`.\r\n",
        "\r\n",
        "The payments will be generated based upon the CustomerGroup and the custGroupSettingsDict. The logic is as follows\r\n",
        "\r\n",
        "`paymentDate = BillingdocumentDate + PayOffset +/- random(PayOffsetVariance)`\r\n",
        "\r\n",
        "Initial Setup\r\n",
        "* CustomerGroup Z1 Offset = 30 +/- 5 days\r\n",
        "* CustomerGroup Z2 Offset = 70 +/- 10 days\r\n",
        "* Other CustomerGroups : defaultOffset = 10 days\r\n",
        "\r\n",
        "Assumptions :\r\n",
        "* There is a 1-1 link between SalesOrderHeaders and Payments\r\n",
        "* Payment Value = Sales Order Value (We assume the customers pay their bill)\r\n",
        "\r\n",
        "File Locations on Azure DataLake  :\r\n",
        "* Sales Orders : abfss://microhack@azdatalakegen2bdl.dfs.core.windows.net/exportSalesOrderHeaders/SalesOrderHeaders.csv\r\n",
        "* Payments : abfss://microhack@azdatalakegen2bdl.dfs.core.windows.net/importPayments/paymentsForCosmosDB"
      ],
      "metadata": {
        "nteract": {
          "transient": {
            "deleting": false
          }
        }
      }
    },
    {
      "cell_type": "markdown",
      "source": [
        "## Extract SalesOrderHeaders- Synapse Pipeline Setup\r\n",
        "The Sales Order Headers need to be exported as a CSV File with Header Lines.\r\n",
        "In this pipeline json make sure to add paramaters `convertDateToDateTime` and `convertTimeToTimespan` in order to have dates converted to data format."
      ],
      "metadata": {
        "nteract": {
          "transient": {
            "deleting": false
          }
        }
      }
    },
    {
      "cell_type": "markdown",
      "source": [
        "## Load Settings"
      ],
      "metadata": {
        "nteract": {
          "transient": {
            "deleting": false
          }
        }
      }
    },
    {
      "cell_type": "code",
      "source": [
        "%%pyspark\r\n",
        "\r\n",
        "import pandas as pd\r\n",
        "import numpy as np\r\n",
        "import random\r\n",
        "from datetime import date, datetime, timedelta\r\n",
        "\r\n",
        "# Settings\r\n",
        "# Payment Settings\r\n",
        "OUTPUT_COLS =['PaymentNr', 'SalesOrderNr', 'CustomerNr', 'CustomerName', 'PaymentDate', 'Value']\r\n",
        "startPaymentNr = 30000 #Initial nr for the Payment Number range\r\n",
        "paymentTermDue = 60    #Offset for Payment Due date\r\n",
        "\r\n",
        "# Payment Offset Settings\r\n",
        "custGroupSettingsDict = {'CustomerGroup' : ['Z1', 'Z2'],\r\n",
        "                         'PayOffset' : [30, 70], #Nr of days after billing date by when customer pays\r\n",
        "                         'PayOffsetVariance' : [5, 10]}\r\n",
        "custGroupSettingsDf = pd.DataFrame(custGroupSettingsDict)\r\n",
        "custGroupSettingsDf.set_index(\"CustomerGroup\", inplace=True)\r\n",
        "defaultOffset = 10 #Paymentset off when CustomerGroup not found in custGroupSettingsDict\r\n",
        "\r\n",
        "#File Settings & Paths\r\n",
        "account_name = 'azdatalakegen2bdl' # fill in your datalake account name\r\n",
        "container_name = 'microhack' # fill in your container name\r\n",
        "relative_path_sales = 'exportSalesOrderHeaders/SalesOrderHeaders.csv' # fill in your relative folder path to the Sales OrderHeader CSV\r\n",
        "relative_path_payments = 'importPayments/paymentsForCosmosDB' # fill in your relatuve folder path to the folder where to write the Payments\r\n",
        "salesSeparator = \",\" #CSV separator for Sales OrderHeader csv input\r\n",
        "paymentsSeparator = \",\" #CSV separator for Payments csv output\r\n",
        "\r\n",
        "adls_path_sales = 'abfss://%s@%s.dfs.core.windows.net/%s' % (container_name, account_name, relative_path_sales)\r\n",
        "print('Path to Sales Orderheader csv file : ' + adls_path_sales)\r\n",
        "adls_path_payments = 'abfss://%s@%s.dfs.core.windows.net/%s' % (container_name, account_name, relative_path_payments)\r\n",
        "print('Directory to write Payments : ' + adls_path_payments)\r\n",
        "\r\n",
        "#Print Settings\r\n",
        "print(custGroupSettingsDf)\r\n"
      ],
      "outputs": [
        {
          "output_type": "display_data",
          "data": {
            "application/vnd.livy.statement-meta+json": {
              "spark_pool": "SparkPool1",
              "session_id": 7,
              "statement_id": 2,
              "state": "finished",
              "livy_statement_state": "available",
              "queued_time": "2021-04-23T13:53:33.4941906Z",
              "execution_start_time": "2021-04-23T13:53:33.6350217Z",
              "execution_finish_time": "2021-04-23T13:53:35.6908817Z"
            },
            "text/plain": "StatementMeta(SparkPool1, 7, 2, Finished, Available)"
          },
          "metadata": {}
        },
        {
          "output_type": "stream",
          "name": "stdout",
          "text": [
            "Path to Sales Orderheader csv file : abfss://microhack@azdatalakegen2bdl.dfs.core.windows.net/exportSalesOrderHeaders/SalesOrderHeaders.csv\n",
            "Directory to write Payments : abfss://microhack@azdatalakegen2bdl.dfs.core.windows.net/importPayments/paymentsForCosmosDB\n",
            "               PayOffset  PayOffsetVariance\n",
            "CustomerGroup                              \n",
            "Z1                    30                  5\n",
            "Z2                    70                 10"
          ]
        }
      ],
      "execution_count": 2,
      "metadata": {
        "microsoft": {
          "language": "python"
        },
        "collapsed": false
      }
    },
    {
      "cell_type": "markdown",
      "source": [
        "## Load Sales Orders Headers"
      ],
      "metadata": {
        "nteract": {
          "transient": {
            "deleting": false
          }
        }
      }
    },
    {
      "cell_type": "code",
      "source": [
        "#Load the Sales Order Headers\r\n",
        "sparkDfSalesOrderHeaders = spark.read.load(adls_path_sales, format='csv'\r\n",
        ", delimiter = salesSeparator\r\n",
        ", header=True\r\n",
        ", inferSchema=True\r\n",
        ")\r\n",
        "\r\n",
        "# sparkDfSalesOrderHeaders.write.mode(\"overwrite\").saveAsTable(\"default.SalesOrderHeaders\")\r\n",
        "print(\"Nr of Sales Order Headers : \" + str(sparkDfSalesOrderHeaders.count()))\r\n",
        "sparkDfSalesOrderHeaders.printSchema()\r\n",
        "\r\n",
        "display(sparkDfSalesOrderHeaders.limit(10))"
      ],
      "outputs": [
        {
          "output_type": "display_data",
          "data": {
            "application/vnd.livy.statement-meta+json": {
              "spark_pool": "SparkPool1",
              "session_id": 7,
              "statement_id": 3,
              "state": "finished",
              "livy_statement_state": "available",
              "queued_time": "2021-04-23T13:54:08.6401776Z",
              "execution_start_time": "2021-04-23T13:54:08.7927154Z",
              "execution_finish_time": "2021-04-23T13:54:46.197081Z"
            },
            "text/plain": "StatementMeta(SparkPool1, 7, 3, Finished, Available)"
          },
          "metadata": {}
        },
        {
          "output_type": "display_data",
          "data": {
            "text/plain": "Nr of Sales Order Headers : 2987\nroot\n |-- MANDT: integer (nullable = true)\n |-- SALESDOCUMENT: long (nullable = true)\n |-- SDDOCUMENTCATEGORY: string (nullable = true)\n |-- SALESDOCUMENTTYPE: string (nullable = true)\n |-- SALESDOCUMENTPROCESSINGTYPE: string (nullable = true)\n |-- CREATIONDATE: timestamp (nullable = true)\n |-- CREATIONTIME: string (nullable = true)\n |-- LASTCHANGEDATE: timestamp (nullable = true)\n |-- LASTCHANGEDATETIME: double (nullable = true)\n |-- SALESORGANIZATION: integer (nullable = true)\n |-- DISTRIBUTIONCHANNEL: integer (nullable = true)\n |-- ORGANIZATIONDIVISION: integer (nullable = true)\n |-- SALESGROUP: integer (nullable = true)\n |-- SALESOFFICE: integer (nullable = true)\n |-- SOLDTOPARTY: string (nullable = true)\n |-- CUSTOMERNAME: string (nullable = true)\n |-- COUNTRY: string (nullable = true)\n |-- CITYNAME: string (nullable = true)\n |-- POSTALCODE: string (nullable = true)\n |-- CUSTOMERACCOUNTGROUP: string (nullable = true)\n |-- SALESDISTRICT: string (nullable = true)\n |-- CUSTOMERGROUP: string (nullable = true)\n |-- CREDITCONTROLAREA: string (nullable = true)\n |-- PURCHASEORDERBYCUSTOMER: string (nullable = true)\n |-- TOTALNETAMOUNT: double (nullable = true)\n |-- TRANSACTIONCURRENCY: string (nullable = true)\n |-- PRICINGDATE: timestamp (nullable = true)\n |-- BILLINGDOCUMENTDATE: timestamp (nullable = true)\n |-- BILLINGCOMPANYCODE: integer (nullable = true)\n\n"
          },
          "metadata": {}
        },
        {
          "output_type": "display_data",
          "data": {
            "application/vnd.synapse.widget-view+json": {
              "widget_id": "78a36628-70fb-42f7-8112-8cc3749c8c01",
              "widget_type": "Synapse.DataFrame"
            },
            "text/plain": "SynapseWidget(Synapse.DataFrame, 78a36628-70fb-42f7-8112-8cc3749c8c01)"
          },
          "metadata": {}
        },
        {
          "output_type": "execute_result",
          "execution_count": 3,
          "data": {},
          "metadata": {}
        }
      ],
      "execution_count": 3,
      "metadata": {
        "jupyter": {
          "source_hidden": false,
          "outputs_hidden": false
        },
        "nteract": {
          "transient": {
            "deleting": false
          }
        },
        "microsoft": {},
        "collapsed": false
      }
    },
    {
      "cell_type": "markdown",
      "source": [
        "## Generate Payments"
      ],
      "metadata": {
        "nteract": {
          "transient": {
            "deleting": false
          }
        }
      }
    },
    {
      "cell_type": "code",
      "source": [
        "#Loop over the SalesData and determine the payment data\r\n",
        "paymentDf = pd.DataFrame(columns=OUTPUT_COLS)\r\n",
        "paymentNr = startPaymentNr - 1\r\n",
        "#Convert Spark DataFrame to Pandas\r\n",
        "pdDfSalesOrderHeaders = sparkDfSalesOrderHeaders.toPandas()\r\n",
        "\r\n",
        "#Loop over the SalesOrderHeaders to generate the payments\r\n",
        "for index, salesHeader in pdDfSalesOrderHeaders.iterrows():\r\n",
        "    paymentNr = paymentNr + 1\r\n",
        "    salesOrderNr = salesHeader['SALESDOCUMENT']\r\n",
        "    customerNr = salesHeader['SOLDTOPARTY']\r\n",
        "    customerName = salesHeader['CUSTOMERNAME']\r\n",
        "    customerGroup = salesHeader['CUSTOMERGROUP']\r\n",
        "    paymentDueDate = salesHeader['BILLINGDOCUMENTDATE'] + timedelta(paymentTermDue)\r\n",
        "    paymentValue = salesHeader['TOTALNETAMOUNT']\r\n",
        "    \r\n",
        "    if(customerGroup in ['Z1', 'Z2']):\r\n",
        "        variance = custGroupSettingsDf.loc[customerGroup].PayOffsetVariance\r\n",
        "        randomoffset = (random.randint(1, 2 * variance)) - variance\r\n",
        "        offsetd = round(custGroupSettingsDf.loc[customerGroup].PayOffset + randomoffset, 0)\r\n",
        "        #convert numpy.int64 to int to support timedelta\r\n",
        "        offset = int(offsetd)\r\n",
        "    else:\r\n",
        "        offset = defaultOffset\r\n",
        "    \r\n",
        "    paymentDate = salesHeader['BILLINGDOCUMENTDATE'] + timedelta(offset)\r\n",
        "\r\n",
        "    paymentDf=paymentDf.append({'PaymentNr' : paymentNr,\r\n",
        "                                'SalesOrderNr' : salesOrderNr, \r\n",
        "                                'CustomerNr' : customerNr,\r\n",
        "                                'CustomerName' : customerName, \r\n",
        "                                'CustomerGroup' : customerGroup,\r\n",
        "                                'PaymentDate' : paymentDate,\r\n",
        "                                'PaymentOffSet' : offset,\r\n",
        "                                'PaymentDueDate' : paymentDueDate,\r\n",
        "                                'Value' : paymentValue,\r\n",
        "                                'variance' : variance,\r\n",
        "                                'randomoffset' : randomoffset,\r\n",
        "                                'offset' : offset,\r\n",
        "                                'BillingDate' : salesHeader['BILLINGDOCUMENTDATE']\r\n",
        "                               }, ignore_index=True)\r\n",
        "\r\n",
        "print(\"Nr of Payments : \" + str(len(paymentDf)))\r\n",
        "paymentDf.head()"
      ],
      "outputs": [
        {
          "output_type": "display_data",
          "data": {
            "application/vnd.livy.statement-meta+json": {
              "spark_pool": "SparkPool1",
              "session_id": 7,
              "statement_id": 4,
              "state": "finished",
              "livy_statement_state": "available",
              "queued_time": "2021-04-23T13:54:59.9404064Z",
              "execution_start_time": "2021-04-23T13:55:00.0680712Z",
              "execution_finish_time": "2021-04-23T13:55:45.6715423Z"
            },
            "text/plain": "StatementMeta(SparkPool1, 7, 4, Finished, Available)"
          },
          "metadata": {}
        },
        {
          "output_type": "stream",
          "name": "stdout",
          "text": [
            "Nr of Payments : 2987\n",
            "  PaymentNr SalesOrderNr  CustomerNr  ... offset randomoffset  variance\n",
            "0     30000         2564    USCU_S13  ...   27.0         -3.0       5.0\n",
            "1     30001         2565    USCU_L04  ...   71.0          1.0      10.0\n",
            "2     30002            4    USCU_L10  ...   66.0         -4.0      10.0\n",
            "3     30003         2566    USCU_L09  ...   80.0         10.0      10.0\n",
            "4     30004         1859  0017100005  ...   10.0         10.0      10.0\n",
            "\n",
            "[5 rows x 13 columns]"
          ]
        }
      ],
      "execution_count": 4,
      "metadata": {
        "jupyter": {
          "source_hidden": false,
          "outputs_hidden": false
        },
        "nteract": {
          "transient": {
            "deleting": false
          }
        },
        "collapsed": true
      }
    },
    {
      "cell_type": "code",
      "source": [
        "#Verify the Payments\r\n",
        "display(paymentDf.groupby(\"CustomerGroup\").describe())"
      ],
      "outputs": [
        {
          "output_type": "display_data",
          "data": {
            "application/vnd.livy.statement-meta+json": {
              "spark_pool": "SparkPool1",
              "session_id": 7,
              "statement_id": 5,
              "state": "finished",
              "livy_statement_state": "available",
              "queued_time": "2021-04-23T13:55:54.4323572Z",
              "execution_start_time": "2021-04-23T13:55:54.5433761Z",
              "execution_finish_time": "2021-04-23T13:56:09.0242525Z"
            },
            "text/plain": "StatementMeta(SparkPool1, 7, 5, Finished, Available)"
          },
          "metadata": {}
        },
        {
          "output_type": "display_data",
          "data": {
            "application/vnd.synapse.widget-view+json": {
              "widget_id": "98a1235c-5a00-4009-bc64-8e6391664d77",
              "widget_type": "Synapse.DataFrame"
            },
            "text/plain": "SynapseWidget(Synapse.DataFrame, 98a1235c-5a00-4009-bc64-8e6391664d77)"
          },
          "metadata": {}
        },
        {
          "output_type": "display_data",
          "data": {
            "text/plain": "\n/opt/spark/python/lib/pyspark.zip/pyspark/sql/session.py:714: UserWarning: createDataFrame attempted Arrow optimization because 'spark.sql.execution.arrow.enabled' is set to true; however, failed by the reason below:\n  'JavaPackage' object is not callable\nAttempting non-optimization as 'spark.sql.execution.arrow.fallback.enabled' is set to true."
          },
          "metadata": {}
        },
        {
          "output_type": "execute_result",
          "execution_count": 5,
          "data": {},
          "metadata": {}
        }
      ],
      "execution_count": 5,
      "metadata": {
        "jupyter": {
          "source_hidden": false,
          "outputs_hidden": false
        },
        "nteract": {
          "transient": {
            "deleting": false
          }
        },
        "collapsed": false
      }
    },
    {
      "cell_type": "markdown",
      "source": [
        "## Write Payments to csv"
      ],
      "metadata": {
        "nteract": {
          "transient": {
            "deleting": false
          }
        }
      }
    },
    {
      "cell_type": "code",
      "source": [
        "#Select only necessary columns, drop the test columns like offset, randomoffset, variance, ...\r\n",
        "paymentDf2 = paymentDf[OUTPUT_COLS]\r\n",
        "display(paymentDf2.head(10))"
      ],
      "outputs": [
        {
          "output_type": "display_data",
          "data": {
            "application/vnd.livy.statement-meta+json": {
              "spark_pool": "SparkPool1",
              "session_id": 7,
              "statement_id": 6,
              "state": "finished",
              "livy_statement_state": "available",
              "queued_time": "2021-04-23T13:56:13.9515007Z",
              "execution_start_time": "2021-04-23T13:56:14.0667559Z",
              "execution_finish_time": "2021-04-23T13:56:16.13606Z"
            },
            "text/plain": "StatementMeta(SparkPool1, 7, 6, Finished, Available)"
          },
          "metadata": {}
        },
        {
          "output_type": "display_data",
          "data": {
            "application/vnd.synapse.widget-view+json": {
              "widget_id": "07907d5a-a13d-491b-91fa-88edb3c5850b",
              "widget_type": "Synapse.DataFrame"
            },
            "text/plain": "SynapseWidget(Synapse.DataFrame, 07907d5a-a13d-491b-91fa-88edb3c5850b)"
          },
          "metadata": {}
        },
        {
          "output_type": "execute_result",
          "execution_count": 6,
          "data": {},
          "metadata": {}
        }
      ],
      "execution_count": 6,
      "metadata": {
        "jupyter": {
          "source_hidden": false,
          "outputs_hidden": false
        },
        "nteract": {
          "transient": {
            "deleting": false
          }
        },
        "collapsed": false
      }
    },
    {
      "cell_type": "code",
      "source": [
        "#Convert to Spark DataFrame\r\n",
        "sparkDfPayments = spark.createDataFrame(paymentDf2)\r\n",
        "\r\n",
        "#Write Payments to Spark Table\r\n",
        "#sparkDfPayments.write.mode('overwrite').saveAsTable('sparkpayments')\r\n",
        "\r\n",
        "#This will write csv files per partition\r\n",
        "#sparkDfPayments.write.mode('overwrite').option(\"header\", \"true\").option(\"delimiter\", paymentsSeparator).csv('adls_path_payments')\r\n",
        "\r\n",
        "sparkDfPayments.repartition(1).write.mode('overwrite').option(\"header\", \"true\").option(\"delimiter\", paymentsSeparator).csv(adls_path_payments)"
      ],
      "outputs": [
        {
          "output_type": "display_data",
          "data": {
            "application/vnd.livy.statement-meta+json": {
              "spark_pool": "SparkPool1",
              "session_id": 7,
              "statement_id": 7,
              "state": "finished",
              "livy_statement_state": "available",
              "queued_time": "2021-04-23T13:56:43.3634542Z",
              "execution_start_time": "2021-04-23T13:56:43.4964797Z",
              "execution_finish_time": "2021-04-23T13:56:47.6568341Z"
            },
            "text/plain": "StatementMeta(SparkPool1, 7, 7, Finished, Available)"
          },
          "metadata": {}
        },
        {
          "output_type": "stream",
          "name": "stdout",
          "text": []
        }
      ],
      "execution_count": 7,
      "metadata": {
        "jupyter": {
          "source_hidden": false,
          "outputs_hidden": false
        },
        "nteract": {
          "transient": {
            "deleting": false
          }
        },
        "collapsed": true
      }
    }
  ],
  "metadata": {
    "kernelspec": {
      "name": "synapse_pyspark",
      "display_name": "python"
    },
    "language_info": {
      "name": "python"
    },
    "save_output": true,
    "synapse_widget": {
      "version": "0.1",
      "state": {
        "78a36628-70fb-42f7-8112-8cc3749c8c01": {
          "type": "Synapse.DataFrame",
          "sync_state": {
            "table": {
              "rows": [
                {
                  "CUSTOMERGROUP": "Z1",
                  "CREDITCONTROLAREA": "A000",
                  "SOLDTOPARTY": "USCU_S13",
                  "CUSTOMERNAME": "Rolling Bike Shop",
                  "CUSTOMERACCOUNTGROUP": "KUNA",
                  "LASTCHANGEDATETIME": 20200203222008.45,
                  "CREATIONDATE": "2020-02-03T00:00:00Z",
                  "SALESDISTRICT": "US0003",
                  "BILLINGCOMPANYCODE": 1710,
                  "TOTALNETAMOUNT": 20631,
                  "SALESDOCUMENTTYPE": "TA",
                  "BILLINGDOCUMENTDATE": "2020-02-01T00:00:00Z",
                  "DISTRIBUTIONCHANNEL": 10,
                  "CREATIONTIME": "22:20:08",
                  "SALESORGANIZATION": 1710,
                  "CITYNAME": "MONTGOMERY",
                  "PURCHASEORDERBYCUSTOMER": "4500027782",
                  "POSTALCODE": "36104",
                  "COUNTRY": "US",
                  "PRICINGDATE": "2020-02-01T00:00:00Z",
                  "SDDOCUMENTCATEGORY": "C",
                  "TRANSACTIONCURRENCY": "USD",
                  "SALESDOCUMENT": 2564,
                  "ORGANIZATIONDIVISION": 0,
                  "MANDT": 100
                },
                {
                  "CUSTOMERGROUP": "Z2",
                  "CREDITCONTROLAREA": "A000",
                  "SOLDTOPARTY": "USCU_L04",
                  "CUSTOMERNAME": "Quotex",
                  "CUSTOMERACCOUNTGROUP": "KUNA",
                  "LASTCHANGEDATETIME": 20200203222008.99,
                  "CREATIONDATE": "2020-02-03T00:00:00Z",
                  "SALESDISTRICT": "US0003",
                  "BILLINGCOMPANYCODE": 1710,
                  "TOTALNETAMOUNT": 23805,
                  "SALESDOCUMENTTYPE": "TA",
                  "BILLINGDOCUMENTDATE": "2020-02-01T00:00:00Z",
                  "DISTRIBUTIONCHANNEL": 10,
                  "CREATIONTIME": "22:20:08",
                  "SALESORGANIZATION": 1710,
                  "CITYNAME": "RALEIGH",
                  "PURCHASEORDERBYCUSTOMER": "4500027756",
                  "POSTALCODE": "27603",
                  "COUNTRY": "US",
                  "PRICINGDATE": "2020-02-01T00:00:00Z",
                  "SDDOCUMENTCATEGORY": "C",
                  "TRANSACTIONCURRENCY": "USD",
                  "SALESDOCUMENT": 2565,
                  "ORGANIZATIONDIVISION": 0,
                  "MANDT": 100
                },
                {
                  "CUSTOMERGROUP": "Z2",
                  "CREDITCONTROLAREA": "A000",
                  "SOLDTOPARTY": "USCU_L10",
                  "CUSTOMERNAME": "CostClub",
                  "CUSTOMERACCOUNTGROUP": "KUNA",
                  "LASTCHANGEDATETIME": 20171008234247.652,
                  "CREATIONDATE": "2017-10-08T00:00:00Z",
                  "SALESDISTRICT": "US0006",
                  "BILLINGCOMPANYCODE": 1710,
                  "TOTALNETAMOUNT": 20020,
                  "SALESDOCUMENTTYPE": "TA",
                  "BILLINGDOCUMENTDATE": "2017-10-08T00:00:00Z",
                  "DISTRIBUTIONCHANNEL": 10,
                  "CREATIONTIME": "23:42:28",
                  "SALESORGANIZATION": 1710,
                  "CITYNAME": "PUBLIC SQUARE",
                  "PURCHASEORDERBYCUSTOMER": "4500045090",
                  "POSTALCODE": "44114",
                  "COUNTRY": "US",
                  "PRICINGDATE": "2017-10-08T00:00:00Z",
                  "SDDOCUMENTCATEGORY": "C",
                  "TRANSACTIONCURRENCY": "USD",
                  "SALESDOCUMENT": 4,
                  "ORGANIZATIONDIVISION": 0,
                  "MANDT": 100
                },
                {
                  "CUSTOMERGROUP": "Z2",
                  "CREDITCONTROLAREA": "A000",
                  "SOLDTOPARTY": "USCU_L09",
                  "CUSTOMERNAME": "Bigmart",
                  "CUSTOMERACCOUNTGROUP": "KUNA",
                  "LASTCHANGEDATETIME": 20200203222009.492,
                  "CREATIONDATE": "2020-02-03T00:00:00Z",
                  "SALESDISTRICT": "US0006",
                  "BILLINGCOMPANYCODE": 1710,
                  "TOTALNETAMOUNT": 22218,
                  "SALESDOCUMENTTYPE": "TA",
                  "BILLINGDOCUMENTDATE": "2020-02-01T00:00:00Z",
                  "DISTRIBUTIONCHANNEL": 10,
                  "CREATIONTIME": "22:20:09",
                  "SALESORGANIZATION": 1710,
                  "CITYNAME": "DETROIT",
                  "PURCHASEORDERBYCUSTOMER": "4500027810",
                  "POSTALCODE": "48226",
                  "COUNTRY": "US",
                  "PRICINGDATE": "2020-02-01T00:00:00Z",
                  "SDDOCUMENTCATEGORY": "C",
                  "TRANSACTIONCURRENCY": "USD",
                  "SALESDOCUMENT": 2566,
                  "ORGANIZATIONDIVISION": 0,
                  "MANDT": 100
                },
                {
                  "CUSTOMERGROUP": "01",
                  "CREDITCONTROLAREA": "1000",
                  "SOLDTOPARTY": "0017100005",
                  "CUSTOMERNAME": "Domestic US Customer 5 (CMS)",
                  "LASTCHANGEDATE": "2020-01-22T00:00:00Z",
                  "CUSTOMERACCOUNTGROUP": "CUST",
                  "LASTCHANGEDATETIME": 20200122221036.117,
                  "CREATIONDATE": "2019-10-22T00:00:00Z",
                  "BILLINGCOMPANYCODE": 1710,
                  "TOTALNETAMOUNT": 175.5,
                  "SALESDOCUMENTTYPE": "TA",
                  "BILLINGDOCUMENTDATE": "2019-10-22T00:00:00Z",
                  "DISTRIBUTIONCHANNEL": 10,
                  "CREATIONTIME": "07:09:55",
                  "SALESORGANIZATION": 1710,
                  "CITYNAME": "Billings",
                  "PURCHASEORDERBYCUSTOMER": "145",
                  "POSTALCODE": "59101-2614",
                  "COUNTRY": "US",
                  "PRICINGDATE": "2019-10-22T00:00:00Z",
                  "SDDOCUMENTCATEGORY": "C",
                  "TRANSACTIONCURRENCY": "USD",
                  "SALESDOCUMENT": 1859,
                  "ORGANIZATIONDIVISION": 0,
                  "MANDT": 100
                },
                {
                  "CUSTOMERGROUP": "01",
                  "CREDITCONTROLAREA": "1000",
                  "SOLDTOPARTY": "0017100005",
                  "CUSTOMERNAME": "Domestic US Customer 5 (CMS)",
                  "LASTCHANGEDATE": "2020-01-22T00:00:00Z",
                  "CUSTOMERACCOUNTGROUP": "CUST",
                  "LASTCHANGEDATETIME": 20200122221111.047,
                  "CREATIONDATE": "2019-10-22T00:00:00Z",
                  "BILLINGCOMPANYCODE": 1710,
                  "TOTALNETAMOUNT": 175.5,
                  "SALESDOCUMENTTYPE": "TA",
                  "BILLINGDOCUMENTDATE": "2019-10-22T00:00:00Z",
                  "DISTRIBUTIONCHANNEL": 10,
                  "CREATIONTIME": "08:20:38",
                  "SALESORGANIZATION": 1710,
                  "CITYNAME": "Billings",
                  "PURCHASEORDERBYCUSTOMER": "PO123",
                  "POSTALCODE": "59101-2614",
                  "COUNTRY": "US",
                  "PRICINGDATE": "2019-10-22T00:00:00Z",
                  "SDDOCUMENTCATEGORY": "C",
                  "TRANSACTIONCURRENCY": "USD",
                  "SALESDOCUMENT": 1862,
                  "ORGANIZATIONDIVISION": 0,
                  "MANDT": 100
                },
                {
                  "CUSTOMERGROUP": "Z1",
                  "CREDITCONTROLAREA": "A000",
                  "SOLDTOPARTY": "USCU_S02",
                  "CUSTOMERNAME": "Custom Sports",
                  "CUSTOMERACCOUNTGROUP": "KUNA",
                  "LASTCHANGEDATETIME": 20200203222010.062,
                  "CREATIONDATE": "2020-02-03T00:00:00Z",
                  "SALESDISTRICT": "US0004",
                  "BILLINGCOMPANYCODE": 1710,
                  "TOTALNETAMOUNT": 19044,
                  "SALESDOCUMENTTYPE": "TA",
                  "BILLINGDOCUMENTDATE": "2020-02-01T00:00:00Z",
                  "DISTRIBUTIONCHANNEL": 10,
                  "CREATIONTIME": "22:20:09",
                  "SALESORGANIZATION": 1710,
                  "CITYNAME": "Boston",
                  "PURCHASEORDERBYCUSTOMER": "4500027729",
                  "POSTALCODE": "02109",
                  "COUNTRY": "US",
                  "PRICINGDATE": "2020-02-01T00:00:00Z",
                  "SDDOCUMENTCATEGORY": "C",
                  "TRANSACTIONCURRENCY": "USD",
                  "SALESDOCUMENT": 2567,
                  "ORGANIZATIONDIVISION": 0,
                  "MANDT": 100
                },
                {
                  "CUSTOMERGROUP": "Z2",
                  "CREDITCONTROLAREA": "A000",
                  "SOLDTOPARTY": "USCU_L03",
                  "CUSTOMERNAME": "Viadox",
                  "LASTCHANGEDATE": "2020-01-22T00:00:00Z",
                  "CUSTOMERACCOUNTGROUP": "KUNA",
                  "LASTCHANGEDATETIME": 20200122221737.324,
                  "CREATIONDATE": "2018-11-06T00:00:00Z",
                  "SALESDISTRICT": "US0004",
                  "BILLINGCOMPANYCODE": 1710,
                  "TOTALNETAMOUNT": 10880,
                  "SALESDOCUMENTTYPE": "TA",
                  "BILLINGDOCUMENTDATE": "2018-11-06T00:00:00Z",
                  "DISTRIBUTIONCHANNEL": 10,
                  "CREATIONTIME": "23:27:17",
                  "SALESORGANIZATION": 1710,
                  "CITYNAME": "Baltimore",
                  "PURCHASEORDERBYCUSTOMER": "4500071806",
                  "POSTALCODE": "21202",
                  "COUNTRY": "US",
                  "PRICINGDATE": "2018-11-06T00:00:00Z",
                  "SDDOCUMENTCATEGORY": "C",
                  "TRANSACTIONCURRENCY": "USD",
                  "SALESDOCUMENT": 797,
                  "ORGANIZATIONDIVISION": 0,
                  "MANDT": 100
                },
                {
                  "CUSTOMERGROUP": "Z1",
                  "CREDITCONTROLAREA": "A000",
                  "SOLDTOPARTY": "USCU_S17",
                  "CUSTOMERNAME": "Bikepros",
                  "CUSTOMERACCOUNTGROUP": "KUNA",
                  "LASTCHANGEDATETIME": 20200203222010.605,
                  "CREATIONDATE": "2020-02-03T00:00:00Z",
                  "SALESDISTRICT": "US0006",
                  "BILLINGCOMPANYCODE": 1710,
                  "TOTALNETAMOUNT": 20631,
                  "SALESDOCUMENTTYPE": "TA",
                  "BILLINGDOCUMENTDATE": "2020-02-01T00:00:00Z",
                  "DISTRIBUTIONCHANNEL": 10,
                  "CREATIONTIME": "22:20:10",
                  "SALESORGANIZATION": 1710,
                  "CITYNAME": "Minneapolis",
                  "PURCHASEORDERBYCUSTOMER": "4500027837",
                  "POSTALCODE": "55432",
                  "COUNTRY": "US",
                  "PRICINGDATE": "2020-02-01T00:00:00Z",
                  "SDDOCUMENTCATEGORY": "C",
                  "TRANSACTIONCURRENCY": "USD",
                  "SALESDOCUMENT": 2568,
                  "ORGANIZATIONDIVISION": 0,
                  "MANDT": 100
                },
                {
                  "CUSTOMERGROUP": "01",
                  "CREDITCONTROLAREA": "1000",
                  "SOLDTOPARTY": "0017100001",
                  "CUSTOMERNAME": "Domestic US Customer 1",
                  "CUSTOMERACCOUNTGROUP": "CUST",
                  "LASTCHANGEDATETIME": 20200122235222.812,
                  "CREATIONDATE": "2019-11-05T00:00:00Z",
                  "SALESDISTRICT": "US0001",
                  "BILLINGCOMPANYCODE": 1710,
                  "TOTALNETAMOUNT": 17.55,
                  "SALESDOCUMENTTYPE": "TA",
                  "BILLINGDOCUMENTDATE": "2019-11-05T00:00:00Z",
                  "SALESOFFICE": 170,
                  "DISTRIBUTIONCHANNEL": 10,
                  "SALESGROUP": 170,
                  "CREATIONTIME": "21:28:24",
                  "SALESORGANIZATION": 1710,
                  "CITYNAME": "Atlanta",
                  "PURCHASEORDERBYCUSTOMER": "SD00002_1119",
                  "POSTALCODE": "30315-1402",
                  "COUNTRY": "US",
                  "PRICINGDATE": "2019-11-05T00:00:00Z",
                  "SDDOCUMENTCATEGORY": "C",
                  "TRANSACTIONCURRENCY": "USD",
                  "SALESDOCUMENT": 2056,
                  "ORGANIZATIONDIVISION": 0,
                  "MANDT": 100
                }
              ],
              "schema": {
                "MANDT": "int",
                "SALESDOCUMENT": "bigint",
                "SDDOCUMENTCATEGORY": "string",
                "SALESDOCUMENTTYPE": "string",
                "SALESDOCUMENTPROCESSINGTYPE": "string",
                "CREATIONDATE": "int",
                "CREATIONTIME": "string",
                "LASTCHANGEDATE": "int",
                "LASTCHANGEDATETIME": "double",
                "SALESORGANIZATION": "int",
                "DISTRIBUTIONCHANNEL": "int",
                "ORGANIZATIONDIVISION": "int",
                "SALESGROUP": "int",
                "SALESOFFICE": "int",
                "SOLDTOPARTY": "string",
                "CUSTOMERNAME": "string",
                "COUNTRY": "string",
                "CITYNAME": "string",
                "POSTALCODE": "string",
                "CUSTOMERACCOUNTGROUP": "string",
                "SALESDISTRICT": "string",
                "CUSTOMERGROUP": "string",
                "CREDITCONTROLAREA": "string",
                "PURCHASEORDERBYCUSTOMER": "string",
                "TOTALNETAMOUNT": "double",
                "TRANSACTIONCURRENCY": "string",
                "PRICINGDATE": "int",
                "BILLINGDOCUMENTDATE": "int",
                "BILLINGCOMPANYCODE": "int"
              }
            },
            "isSummary": false,
            "language": "scala"
          },
          "persist_state": {
            "view": {
              "type": "details",
              "tableOptions": {},
              "chartOptions": {
                "chartType": "bar",
                "aggregationType": "sum",
                "categoryFieldKeys": [
                  "SALESDOCUMENT"
                ],
                "seriesFieldKeys": [
                  "MANDT"
                ],
                "isStacked": false
              }
            }
          }
        },
        "98a1235c-5a00-4009-bc64-8e6391664d77": {
          "type": "Synapse.DataFrame",
          "sync_state": {
            "table": {
              "rows": [
                {
                  "('variance', 'mean')": 6.755485893416928,
                  "('offset', '50%')": 10,
                  "('PaymentOffSet', 'max')": 10,
                  "('PaymentOffSet', 'min')": 10,
                  "('offset', 'std')": 0,
                  "('randomoffset', '75%')": 3,
                  "('PaymentOffSet', '50%')": 10,
                  "('offset', 'count')": 319,
                  "('variance', '50%')": 5,
                  "('variance', 'count')": 319,
                  "('randomoffset', '25%')": -2,
                  "('Value', 'min')": 0,
                  "('Value', 'mean')": 1306.6391849529782,
                  "('offset', 'mean')": 10,
                  "('variance', 'std')": 2.3903158258778108,
                  "('Value', 'count')": 319,
                  "('randomoffset', 'std')": 4.080458909288528,
                  "('offset', '25%')": 10,
                  "('variance', '25%')": 5,
                  "('offset', 'max')": 10,
                  "('offset', 'min')": 10,
                  "('variance', 'max')": 10,
                  "('PaymentOffSet', '75%')": 10,
                  "('Value', '75%')": 175.5,
                  "('variance', '75%')": 10,
                  "('randomoffset', 'min')": -9,
                  "('PaymentOffSet', '25%')": 10,
                  "('Value', '50%')": 70.2,
                  "('randomoffset', '50%')": 1,
                  "('PaymentOffSet', 'mean')": 10,
                  "('Value', '25%')": 0,
                  "('randomoffset', 'mean')": 0.9373040752351097,
                  "('variance', 'min')": 5,
                  "('Value', 'std')": 5184.744814883043,
                  "('PaymentOffSet', 'std')": 0,
                  "('randomoffset', 'max')": 10,
                  "('PaymentOffSet', 'count')": 319,
                  "('randomoffset', 'count')": 319,
                  "('Value', 'max')": 69220,
                  "('offset', '75%')": 10
                },
                {
                  "('variance', 'mean')": 7.7272727272727275,
                  "('offset', '50%')": 10,
                  "('PaymentOffSet', 'max')": 10,
                  "('PaymentOffSet', 'min')": 10,
                  "('offset', 'std')": 0,
                  "('randomoffset', '75%')": 3,
                  "('PaymentOffSet', '50%')": 10,
                  "('offset', 'count')": 11,
                  "('variance', '50%')": 10,
                  "('variance', 'count')": 11,
                  "('randomoffset', '25%')": 0.5,
                  "('Value', 'min')": 17.55,
                  "('Value', 'mean')": 854.6454545454545,
                  "('offset', 'mean')": 10,
                  "('variance', 'std')": 2.6111648393354674,
                  "('Value', 'count')": 11,
                  "('randomoffset', 'std')": 2.4007574562284217,
                  "('offset', '25%')": 10,
                  "('variance', '25%')": 5,
                  "('offset', 'max')": 10,
                  "('offset', 'min')": 10,
                  "('variance', 'max')": 10,
                  "('PaymentOffSet', '75%')": 10,
                  "('Value', '75%')": 263.25,
                  "('variance', '75%')": 10,
                  "('randomoffset', 'min')": -4,
                  "('PaymentOffSet', '25%')": 10,
                  "('Value', '50%')": 87.75,
                  "('randomoffset', '50%')": 2,
                  "('PaymentOffSet', 'mean')": 10,
                  "('Value', '25%')": 33.025,
                  "('randomoffset', 'mean')": 1.1818181818181819,
                  "('variance', 'min')": 5,
                  "('Value', 'std')": 2374.019765656401,
                  "('PaymentOffSet', 'std')": 0,
                  "('randomoffset', 'max')": 3,
                  "('PaymentOffSet', 'count')": 11,
                  "('randomoffset', 'count')": 11,
                  "('Value', 'max')": 8000,
                  "('offset', '75%')": 10
                },
                {
                  "('variance', 'mean')": 5,
                  "('offset', '50%')": 30,
                  "('PaymentOffSet', 'max')": 35,
                  "('PaymentOffSet', 'min')": 26,
                  "('offset', 'std')": 2.826220686408652,
                  "('randomoffset', '75%')": 3,
                  "('PaymentOffSet', '50%')": 30,
                  "('offset', 'count')": 1368,
                  "('variance', '50%')": 5,
                  "('variance', 'count')": 1368,
                  "('randomoffset', '25%')": -2,
                  "('Value', 'min')": 0,
                  "('Value', 'mean')": 37192.42543859649,
                  "('offset', 'mean')": 30.52777777777778,
                  "('variance', 'std')": 0,
                  "('Value', 'count')": 1368,
                  "('randomoffset', 'std')": 2.826220686408652,
                  "('offset', '25%')": 28,
                  "('variance', '25%')": 5,
                  "('offset', 'max')": 35,
                  "('offset', 'min')": 26,
                  "('variance', 'max')": 5,
                  "('PaymentOffSet', '75%')": 33,
                  "('Value', '75%')": 51701,
                  "('variance', '75%')": 5,
                  "('randomoffset', 'min')": -4,
                  "('PaymentOffSet', '25%')": 28,
                  "('Value', '50%')": 8890,
                  "('randomoffset', '50%')": 0,
                  "('PaymentOffSet', 'mean')": 30.52777777777778,
                  "('Value', '25%')": 2400,
                  "('randomoffset', 'mean')": 0.5277777777777778,
                  "('variance', 'min')": 5,
                  "('Value', 'std')": 60404.68146630998,
                  "('PaymentOffSet', 'std')": 2.826220686408652,
                  "('randomoffset', 'max')": 5,
                  "('PaymentOffSet', 'count')": 1368,
                  "('randomoffset', 'count')": 1368,
                  "('Value', 'max')": 487683,
                  "('offset', '75%')": 33
                },
                {
                  "('variance', 'mean')": 10,
                  "('offset', '50%')": 71,
                  "('PaymentOffSet', 'max')": 80,
                  "('PaymentOffSet', 'min')": 61,
                  "('offset', 'std')": 5.842489586253247,
                  "('randomoffset', '75%')": 6,
                  "('PaymentOffSet', '50%')": 71,
                  "('offset', 'count')": 1287,
                  "('variance', '50%')": 10,
                  "('variance', 'count')": 1287,
                  "('randomoffset', '25%')": -4,
                  "('Value', 'min')": 0,
                  "('Value', 'mean')": 22532.372183372183,
                  "('offset', 'mean')": 70.5905205905206,
                  "('variance', 'std')": 0,
                  "('Value', 'count')": 1287,
                  "('randomoffset', 'std')": 5.842489586253253,
                  "('offset', '25%')": 66,
                  "('variance', '25%')": 10,
                  "('offset', 'max')": 80,
                  "('offset', 'min')": 61,
                  "('variance', 'max')": 10,
                  "('PaymentOffSet', '75%')": 76,
                  "('Value', '75%')": 27182,
                  "('variance', '75%')": 10,
                  "('randomoffset', 'min')": -9,
                  "('PaymentOffSet', '25%')": 66,
                  "('Value', '50%')": 13335,
                  "('randomoffset', '50%')": 1,
                  "('PaymentOffSet', 'mean')": 70.5905205905206,
                  "('Value', '25%')": 6820,
                  "('randomoffset', 'mean')": 0.5905205905205905,
                  "('variance', 'min')": 10,
                  "('Value', 'std')": 27078.145871941626,
                  "('PaymentOffSet', 'std')": 5.842489586253247,
                  "('randomoffset', 'max')": 10,
                  "('PaymentOffSet', 'count')": 1287,
                  "('randomoffset', 'count')": 1287,
                  "('Value', 'max')": 246574,
                  "('offset', '75%')": 76
                }
              ],
              "schema": {
                "('Value', 'count')": "double",
                "('Value', 'mean')": "double",
                "('Value', 'std')": "double",
                "('Value', 'min')": "double",
                "('Value', '25%')": "double",
                "('Value', '50%')": "double",
                "('Value', '75%')": "double",
                "('Value', 'max')": "double",
                "('PaymentOffSet', 'count')": "double",
                "('PaymentOffSet', 'mean')": "double",
                "('PaymentOffSet', 'std')": "double",
                "('PaymentOffSet', 'min')": "double",
                "('PaymentOffSet', '25%')": "double",
                "('PaymentOffSet', '50%')": "double",
                "('PaymentOffSet', '75%')": "double",
                "('PaymentOffSet', 'max')": "double",
                "('offset', 'count')": "double",
                "('offset', 'mean')": "double",
                "('offset', 'std')": "double",
                "('offset', 'min')": "double",
                "('offset', '25%')": "double",
                "('offset', '50%')": "double",
                "('offset', '75%')": "double",
                "('offset', 'max')": "double",
                "('randomoffset', 'count')": "double",
                "('randomoffset', 'mean')": "double",
                "('randomoffset', 'std')": "double",
                "('randomoffset', 'min')": "double",
                "('randomoffset', '25%')": "double",
                "('randomoffset', '50%')": "double",
                "('randomoffset', '75%')": "double",
                "('randomoffset', 'max')": "double",
                "('variance', 'count')": "double",
                "('variance', 'mean')": "double",
                "('variance', 'std')": "double",
                "('variance', 'min')": "double",
                "('variance', '25%')": "double",
                "('variance', '50%')": "double",
                "('variance', '75%')": "double",
                "('variance', 'max')": "double"
              }
            },
            "isSummary": false,
            "language": "scala"
          },
          "persist_state": {
            "view": {
              "type": "details",
              "tableOptions": {},
              "chartOptions": {
                "chartType": "bar",
                "aggregationType": "sum",
                "categoryFieldKeys": [
                  "('Value', 'mean')"
                ],
                "seriesFieldKeys": [
                  "('Value', 'count')"
                ],
                "isStacked": false
              }
            }
          }
        },
        "07907d5a-a13d-491b-91fa-88edb3c5850b": {
          "type": "Synapse.DataFrame",
          "sync_state": {
            "table": {
              "rows": [
                {
                  "CustomerName": "Rolling Bike Shop",
                  "CustomerNr": "USCU_S13",
                  "Value": 20631,
                  "PaymentDate": "2020-02-28T00:00:00Z",
                  "SalesOrderNr": 2564,
                  "PaymentNr": 30000
                },
                {
                  "CustomerName": "Quotex",
                  "CustomerNr": "USCU_L04",
                  "Value": 23805,
                  "PaymentDate": "2020-04-12T00:00:00Z",
                  "SalesOrderNr": 2565,
                  "PaymentNr": 30001
                },
                {
                  "CustomerName": "CostClub",
                  "CustomerNr": "USCU_L10",
                  "Value": 20020,
                  "PaymentDate": "2017-12-13T00:00:00Z",
                  "SalesOrderNr": 4,
                  "PaymentNr": 30002
                },
                {
                  "CustomerName": "Bigmart",
                  "CustomerNr": "USCU_L09",
                  "Value": 22218,
                  "PaymentDate": "2020-04-21T00:00:00Z",
                  "SalesOrderNr": 2566,
                  "PaymentNr": 30003
                },
                {
                  "CustomerName": "Domestic US Customer 5 (CMS)",
                  "CustomerNr": "0017100005",
                  "Value": 175.5,
                  "PaymentDate": "2019-11-01T00:00:00Z",
                  "SalesOrderNr": 1859,
                  "PaymentNr": 30004
                },
                {
                  "CustomerName": "Domestic US Customer 5 (CMS)",
                  "CustomerNr": "0017100005",
                  "Value": 175.5,
                  "PaymentDate": "2019-11-01T00:00:00Z",
                  "SalesOrderNr": 1862,
                  "PaymentNr": 30005
                },
                {
                  "CustomerName": "Custom Sports",
                  "CustomerNr": "USCU_S02",
                  "Value": 19044,
                  "PaymentDate": "2020-03-03T00:00:00Z",
                  "SalesOrderNr": 2567,
                  "PaymentNr": 30006
                },
                {
                  "CustomerName": "Viadox",
                  "CustomerNr": "USCU_L03",
                  "Value": 10880,
                  "PaymentDate": "2019-01-11T00:00:00Z",
                  "SalesOrderNr": 797,
                  "PaymentNr": 30007
                },
                {
                  "CustomerName": "Bikepros",
                  "CustomerNr": "USCU_S17",
                  "Value": 20631,
                  "PaymentDate": "2020-02-27T00:00:00Z",
                  "SalesOrderNr": 2568,
                  "PaymentNr": 30008
                },
                {
                  "CustomerName": "Domestic US Customer 1",
                  "CustomerNr": "0017100001",
                  "Value": 17.55,
                  "PaymentDate": "2019-11-15T00:00:00Z",
                  "SalesOrderNr": 2056,
                  "PaymentNr": 30009
                }
              ],
              "schema": {
                "PaymentNr": "bigint",
                "SalesOrderNr": "bigint",
                "CustomerNr": "string",
                "CustomerName": "string",
                "PaymentDate": "int",
                "Value": "double"
              }
            },
            "isSummary": false,
            "language": "scala"
          },
          "persist_state": {
            "view": {
              "type": "details",
              "tableOptions": {},
              "chartOptions": {
                "chartType": "bar",
                "aggregationType": "sum",
                "categoryFieldKeys": [
                  "SalesOrderNr"
                ],
                "seriesFieldKeys": [
                  "PaymentNr"
                ],
                "isStacked": false
              }
            }
          }
        }
      }
    }
  },
  "nbformat": 4,
  "nbformat_minor": 2
}